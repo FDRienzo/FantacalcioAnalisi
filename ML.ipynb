{
 "cells": [
  {
   "cell_type": "code",
   "execution_count": 19,
   "metadata": {},
   "outputs": [],
   "source": [
    "import pandas as pd\n",
    "import numpy as np\n",
    "import Levenshtein\n",
    "from IPython.display import Markdown, display\n",
    "import matplotlib.pyplot as plt\n",
    "from sklearn.cluster import KMeans\n",
    "from sklearn.linear_model import LinearRegression\n",
    "from sklearn.cross_validation import train_test_split\n",
    "from sklearn.metrics import mean_squared_error\n",
    "from sklearn.ensemble import RandomForestRegressor\n"
   ]
  },
  {
   "cell_type": "code",
   "execution_count": 20,
   "metadata": {},
   "outputs": [],
   "source": [
    "def get_name(x):\n",
    "    if len(x.split()) == 1:\n",
    "        return x\n",
    "    else:\n",
    "        x = [w for w in x.split() if not any(letter in w for letter in \"abcdefghijklmnopqrstuvwxyz\")]\n",
    "        return \" \".join(x)"
   ]
  },
  {
   "cell_type": "code",
   "execution_count": 21,
   "metadata": {},
   "outputs": [],
   "source": [
    "F16 = pd.read_csv(f\"data/final_16.csv\")\n",
    "F17 = pd.read_csv(f\"data/final_17.csv\")\n",
    "F18 = pd.read_csv(f\"data/final_18.csv\")\n"
   ]
  },
  {
   "cell_type": "code",
   "execution_count": 22,
   "metadata": {},
   "outputs": [],
   "source": [
    "CF16 = pd.read_excel(f\"data/classifiche/Classifica16.xlsx\")\n",
    "CF17 = pd.read_excel(f\"data/classifiche/Classifica17.xlsx\")\n",
    "CF18 = pd.read_excel(f\"data/classifiche/Classifica18.xlsx\")\n",
    "CF16[\"Pt\"] = CF16[\"Pt\"]/(CF16[\"Pt\"].max())\n",
    "CF17[\"Pt\"] = CF17[\"Pt\"]/(CF17[\"Pt\"].max())\n",
    "CF18[\"Pt\"] = CF18[\"Pt\"]/(CF18[\"Pt\"].max())\n",
    "CF16['Squadra'].replace(regex=True,inplace=True,to_replace=r'\\xa0',value=r'')\n",
    "CF17['Squadra'].replace(regex=True,inplace=True,to_replace=r'\\xa0',value=r'')\n",
    "CF18['Squadra'].replace(regex=True,inplace=True,to_replace=r'\\xa0',value=r'')\n"
   ]
  },
  {
   "cell_type": "code",
   "execution_count": 23,
   "metadata": {},
   "outputs": [],
   "source": [
    "def get_name(x):\n",
    "    if len(x.split()) == 1:\n",
    "        return x\n",
    "    else:\n",
    "        x = [w for w in x.split() if not any(letter in w for letter in \"abcdefghijklmnopqrstuvwxyz\")]\n",
    "        return \" \".join(x)"
   ]
  },
  {
   "cell_type": "code",
   "execution_count": 24,
   "metadata": {},
   "outputs": [],
   "source": [
    "FG16 = pd.read_excel(f\"data/Valori FG/ValoriFG16.xlsx\")\n",
    "FG17 = pd.read_excel(f\"data/Valori FG/ValoriFG17.xlsx\")\n",
    "FG18 = pd.read_excel(f\"data/Valori FG/ValoriFG18.xlsx\")"
   ]
  },
  {
   "cell_type": "code",
   "execution_count": 25,
   "metadata": {},
   "outputs": [],
   "source": [
    "FG16[\"Nome\"] = FG16[\"Calciatore\"].apply(get_name)\n",
    "FG17[\"Nome\"] = FG17[\"Calciatore\"].apply(get_name)\n",
    "FG18[\"Nome\"] = FG18[\"Calciatore\"].apply(get_name)\n"
   ]
  },
  {
   "cell_type": "code",
   "execution_count": 26,
   "metadata": {},
   "outputs": [],
   "source": [
    "F16['Squadra'] = F16['Squadra'].map(CF16.set_index('Squadra')['Pt'])\n",
    "F17['Squadra'] = F17['Squadra'].map(CF17.set_index('Squadra')['Pt'])\n",
    "F18['Squadra'] = F18['Squadra'].map(CF18.set_index('Squadra')['Pt'])\n",
    "FG16[\"Quot\"]=FG16[\"Q.Iniz.\"]\n",
    "FG16[\"Quot Fin\"]=FG16[\"Quot.\"]\n",
    "FG17[\"Quot Fin\"]=FG17[\"QuotF\"]\n",
    "FG18[\"Quot Fin\"]=FG18[\"Quot.\"]\n"
   ]
  },
  {
   "cell_type": "code",
   "execution_count": 27,
   "metadata": {},
   "outputs": [
    {
     "data": {
      "text/plain": [
       "9.287878787878787"
      ]
     },
     "execution_count": 27,
     "metadata": {},
     "output_type": "execute_result"
    }
   ],
   "source": [
    "F16 = pd.merge(FG16,F16,on=\"Nome\")\n",
    "columns = [\"Nome\",\"GP\",\"Quot\",\"Mean\",\"STD\",\"Titolare\",\"Squadra_y\",\"Quot Fin\"]\n",
    "F16 = F16[columns]\n",
    "F17 = pd.merge(FG17,F17,on=\"Nome\")\n",
    "columns = [\"Nome\",\"GP\",\"Quot\",\"Mean\",\"STD\",\"Titolare\",\"Squadra_y\",\"Quot Fin\"]\n",
    "F17 = F17[columns]\n",
    "F18 = pd.merge(FG18,F18,on=\"Nome\")\n",
    "columns = [\"Nome\",\"GP\",\"Quot\",\"Mean\",\"STD\",\"Titolare\",\"Squadra_y\",\"Quot Fin\"]\n",
    "F18 = F18[columns]\n",
    "F18[\"Mean\"].max()"
   ]
  },
  {
   "cell_type": "code",
   "execution_count": 28,
   "metadata": {},
   "outputs": [],
   "source": [
    "F16[\"Quot\"]=F16[\"Quot\"]/(F16[\"Quot\"].max())\n",
    "F17[\"Quot\"]=F17[\"Quot\"]/(F17[\"Quot\"].max())\n",
    "F18[\"Quot\"]=F18[\"Quot\"]/(F18[\"Quot\"].max())\n"
   ]
  },
  {
   "cell_type": "code",
   "execution_count": 29,
   "metadata": {},
   "outputs": [],
   "source": [
    "def get_name(x):\n",
    "    if len(x.split()) == 1:\n",
    "        return x\n",
    "    else:\n",
    "        x = [w for w in x.split() if not any(letter in w for letter in \"abcdefghijklmnopqrstuvwxyz\")]\n",
    "        return \" \".join(x)"
   ]
  },
  {
   "cell_type": "code",
   "execution_count": 30,
   "metadata": {},
   "outputs": [],
   "source": [
    "tot=[F16,F17,F18]\n",
    "Final = pd.concat(tot)\n",
    "Final[\"Mean\"]= Final[\"Mean\"]/Final[\"Mean\"].max()\n",
    "Final[\"STD\"]= Final[\"STD\"]/Final[\"STD\"].max()\n",
    "\n"
   ]
  },
  {
   "cell_type": "code",
   "execution_count": 31,
   "metadata": {},
   "outputs": [
    {
     "name": "stdout",
     "output_type": "stream",
     "text": [
      "(742, 8)\n",
      "(110, 8)\n"
     ]
    }
   ],
   "source": [
    "train = Final.sample(frac=0.6, random_state=1)\n",
    "test = Final.loc[~Final.index.isin(train.index)]\n",
    "print(train.shape)\n",
    "print(test.shape)"
   ]
  },
  {
   "cell_type": "code",
   "execution_count": 32,
   "metadata": {},
   "outputs": [
    {
     "data": {
      "text/plain": [
       "LinearRegression(copy_X=True, fit_intercept=True, n_jobs=1, normalize=False)"
      ]
     },
     "execution_count": 32,
     "metadata": {},
     "output_type": "execute_result"
    }
   ],
   "source": [
    "columns = [\"Squadra_y\",\"Quot\"]\n",
    "model = LinearRegression()\n",
    "target = [\"Mean\",\"STD\"]\n",
    "model.fit(train[columns], train[target])\n"
   ]
  },
  {
   "cell_type": "code",
   "execution_count": 33,
   "metadata": {},
   "outputs": [
    {
     "data": {
      "text/plain": [
       "0.010968696631686526"
      ]
     },
     "execution_count": 33,
     "metadata": {},
     "output_type": "execute_result"
    }
   ],
   "source": [
    "predictions = model.predict(test[columns])\n",
    "mean_squared_error(predictions, test[target])"
   ]
  },
  {
   "cell_type": "code",
   "execution_count": 34,
   "metadata": {},
   "outputs": [],
   "source": [
    "#Qualcosa ne esce fuori, dopo provo n'attimo a giocarci un po' di più"
   ]
  },
  {
   "cell_type": "code",
   "execution_count": 35,
   "metadata": {},
   "outputs": [],
   "source": [
    "columns=[\"Squadra_y\",\"Quot\"]\n",
    "Predictions =model.predict(Final[columns])\n",
    "Final[\"Predict\"]= Predictions[:,0]\n",
    "Final[\"Predict STD\"]=Predictions[:,1]"
   ]
  },
  {
   "cell_type": "code",
   "execution_count": 36,
   "metadata": {},
   "outputs": [
    {
     "data": {
      "text/html": [
       "<div>\n",
       "<style scoped>\n",
       "    .dataframe tbody tr th:only-of-type {\n",
       "        vertical-align: middle;\n",
       "    }\n",
       "\n",
       "    .dataframe tbody tr th {\n",
       "        vertical-align: top;\n",
       "    }\n",
       "\n",
       "    .dataframe thead th {\n",
       "        text-align: right;\n",
       "    }\n",
       "</style>\n",
       "<table border=\"1\" class=\"dataframe\">\n",
       "  <thead>\n",
       "    <tr style=\"text-align: right;\">\n",
       "      <th></th>\n",
       "      <th>Squadra</th>\n",
       "      <th>Pt</th>\n",
       "    </tr>\n",
       "  </thead>\n",
       "  <tbody>\n",
       "    <tr>\n",
       "      <th>0</th>\n",
       "      <td>Juventus</td>\n",
       "      <td>1.000000</td>\n",
       "    </tr>\n",
       "    <tr>\n",
       "      <th>1</th>\n",
       "      <td>Napoli</td>\n",
       "      <td>0.721429</td>\n",
       "    </tr>\n",
       "    <tr>\n",
       "      <th>2</th>\n",
       "      <td>Roma</td>\n",
       "      <td>0.721429</td>\n",
       "    </tr>\n",
       "    <tr>\n",
       "      <th>3</th>\n",
       "      <td>Inter</td>\n",
       "      <td>0.721429</td>\n",
       "    </tr>\n",
       "    <tr>\n",
       "      <th>4</th>\n",
       "      <td>Milan</td>\n",
       "      <td>0.545946</td>\n",
       "    </tr>\n",
       "    <tr>\n",
       "      <th>5</th>\n",
       "      <td>Lazio</td>\n",
       "      <td>0.269333</td>\n",
       "    </tr>\n",
       "    <tr>\n",
       "      <th>6</th>\n",
       "      <td>Sampdoria</td>\n",
       "      <td>0.048095</td>\n",
       "    </tr>\n",
       "    <tr>\n",
       "      <th>7</th>\n",
       "      <td>Atalanta</td>\n",
       "      <td>0.091818</td>\n",
       "    </tr>\n",
       "    <tr>\n",
       "      <th>8</th>\n",
       "      <td>Fiorentina</td>\n",
       "      <td>0.067333</td>\n",
       "    </tr>\n",
       "    <tr>\n",
       "      <th>9</th>\n",
       "      <td>Torino</td>\n",
       "      <td>0.067333</td>\n",
       "    </tr>\n",
       "    <tr>\n",
       "      <th>10</th>\n",
       "      <td>Udinese</td>\n",
       "      <td>0.024634</td>\n",
       "    </tr>\n",
       "    <tr>\n",
       "      <th>11</th>\n",
       "      <td>Parma</td>\n",
       "      <td>0.005025</td>\n",
       "    </tr>\n",
       "    <tr>\n",
       "      <th>12</th>\n",
       "      <td>Bologna</td>\n",
       "      <td>0.015075</td>\n",
       "    </tr>\n",
       "    <tr>\n",
       "      <th>13</th>\n",
       "      <td>Sassuolo</td>\n",
       "      <td>0.024634</td>\n",
       "    </tr>\n",
       "    <tr>\n",
       "      <th>14</th>\n",
       "      <td>Genoa</td>\n",
       "      <td>0.029706</td>\n",
       "    </tr>\n",
       "    <tr>\n",
       "      <th>15</th>\n",
       "      <td>Chievo</td>\n",
       "      <td>0.015075</td>\n",
       "    </tr>\n",
       "    <tr>\n",
       "      <th>16</th>\n",
       "      <td>Cagliari</td>\n",
       "      <td>0.012469</td>\n",
       "    </tr>\n",
       "    <tr>\n",
       "      <th>17</th>\n",
       "      <td>SPAL</td>\n",
       "      <td>0.006689</td>\n",
       "    </tr>\n",
       "    <tr>\n",
       "      <th>18</th>\n",
       "      <td>Empoli</td>\n",
       "      <td>0.012469</td>\n",
       "    </tr>\n",
       "    <tr>\n",
       "      <th>19</th>\n",
       "      <td>Frosinone</td>\n",
       "      <td>0.005025</td>\n",
       "    </tr>\n",
       "  </tbody>\n",
       "</table>\n",
       "</div>"
      ],
      "text/plain": [
       "       Squadra        Pt\n",
       "0     Juventus  1.000000\n",
       "1       Napoli  0.721429\n",
       "2         Roma  0.721429\n",
       "3        Inter  0.721429\n",
       "4        Milan  0.545946\n",
       "5        Lazio  0.269333\n",
       "6    Sampdoria  0.048095\n",
       "7     Atalanta  0.091818\n",
       "8   Fiorentina  0.067333\n",
       "9       Torino  0.067333\n",
       "10     Udinese  0.024634\n",
       "11       Parma  0.005025\n",
       "12     Bologna  0.015075\n",
       "13    Sassuolo  0.024634\n",
       "14       Genoa  0.029706\n",
       "15      Chievo  0.015075\n",
       "16    Cagliari  0.012469\n",
       "17        SPAL  0.006689\n",
       "18      Empoli  0.012469\n",
       "19   Frosinone  0.005025"
      ]
     },
     "execution_count": 36,
     "metadata": {},
     "output_type": "execute_result"
    }
   ],
   "source": [
    "CF19 = pd.read_excel(f\"data/Quotazione Squadre 2019.xlsx\")\n",
    "CF19[\"Pt\"] = 1/CF19[\"Pt\"] \n",
    "CF19[\"Pt\"] = CF19[\"Pt\"]/CF19[\"Pt\"].max()\n",
    "CF19"
   ]
  },
  {
   "cell_type": "code",
   "execution_count": 37,
   "metadata": {},
   "outputs": [],
   "source": [
    "F19 = pd.read_csv(f\"data/final_19.csv\")\n",
    "#Assegno un valore alle squadre in cui giocano, mi baso sul sito di scommesse\n",
    "F19['SquadraN'] = F19['Squadra'].map(CF19.set_index('Squadra')['Pt'])\n",
    "#Droppo le squadre che non c'erano l'anno scorso\n",
    "F19 = F19.dropna()\n",
    "F19[\"Tit\"] = F19[\"Tit\"]/F19[\"Tit\"].max()\n",
    "F19[\"Quote\"]=F19[\"Qt. A\"]\n",
    "F19[\"Quote\"]=F19[\"Quote\"]/F19[\"Quote\"].max()\n",
    "columns=[\"SquadraN\",\"Quote\"]\n",
    "Predictions =model.predict(F19[columns])\n",
    "F19[\"Predict\"]= Predictions[:,0]\n",
    "F19[\"Predict STD\"] = Predictions[:,1]\n"
   ]
  },
  {
   "cell_type": "code",
   "execution_count": null,
   "metadata": {},
   "outputs": [],
   "source": []
  },
  {
   "cell_type": "code",
   "execution_count": 38,
   "metadata": {},
   "outputs": [
    {
     "data": {
      "text/plain": [
       "59"
      ]
     },
     "execution_count": 38,
     "metadata": {},
     "output_type": "execute_result"
    }
   ],
   "source": [
    "Final[\"Quot Fin\"].max()\n"
   ]
  },
  {
   "cell_type": "code",
   "execution_count": 39,
   "metadata": {},
   "outputs": [],
   "source": [
    "Final[\"Quot Fin\"] = Final[\"Quot Fin\"]/Final[\"Quot Fin\"].max()"
   ]
  },
  {
   "cell_type": "code",
   "execution_count": 40,
   "metadata": {},
   "outputs": [],
   "source": [
    "train = Final.sample(frac=0.9, random_state=1)\n",
    "test= Final.loc[~Final.index.isin(train.index)]"
   ]
  },
  {
   "cell_type": "code",
   "execution_count": 41,
   "metadata": {},
   "outputs": [],
   "source": [
    "columns = [\"Predict\",\"Titolare\",\"Predict STD\"]\n",
    "model = LinearRegression()\n",
    "target = \"Quot Fin\""
   ]
  },
  {
   "cell_type": "code",
   "execution_count": 42,
   "metadata": {},
   "outputs": [
    {
     "data": {
      "text/plain": [
       "0.002260574862630534"
      ]
     },
     "execution_count": 42,
     "metadata": {},
     "output_type": "execute_result"
    }
   ],
   "source": [
    "model.fit(train[columns], train[target])\n",
    "predictions = model.predict(test[columns])\n",
    "mean_squared_error(predictions, test[target])\n"
   ]
  },
  {
   "cell_type": "code",
   "execution_count": 43,
   "metadata": {},
   "outputs": [
    {
     "name": "stdout",
     "output_type": "stream",
     "text": [
      "     Unnamed: 0   Id     R      Nome Squadra  Qt. A  Qt. I  Diff.       Tit  \\\n",
      "230         230  523  Dd;E  VRSALJKO   Inter     14     14      0  0.833333   \n",
      "\n",
      "     SquadraN  Quote   Predict  Predict STD     FinVal      Diff  \n",
      "230  0.721429   14.0  0.601506     0.306975  14.697486  0.697486  \n"
     ]
    }
   ],
   "source": [
    "F19[\"Quote\"] = F19[\"Quote\"]/(F19[\"Quote\"].max())\n",
    "columns = [\"Predict\",\"Tit\",\"Predict STD\"]\n",
    "FinVal = model.predict(F19[columns])\n",
    "F19[\"FinVal\"]= FinVal*59\n",
    "F19[\"Quote\"]=F19[\"Quote\"]*49\n",
    "F19[\"Diff\"] = -F19[\"Quote\"]+F19[\"FinVal\"]\n",
    "print(F19.loc[F19['Nome'] == \"VRSALJKO\"])"
   ]
  },
  {
   "cell_type": "code",
   "execution_count": 44,
   "metadata": {},
   "outputs": [],
   "source": [
    "Gruppi_Mantra = F19.groupby(\"R\")"
   ]
  },
  {
   "cell_type": "code",
   "execution_count": 45,
   "metadata": {},
   "outputs": [],
   "source": [
    "F19= F19.rename(columns={\"R\": \"R_Mantra\"})"
   ]
  },
  {
   "cell_type": "code",
   "execution_count": 46,
   "metadata": {},
   "outputs": [],
   "source": [
    "Ruo = pd.read_excel(f\"data/Statistiche_Fantacalcio_2018-19_Fantagazzetta (1).xlsx\")\n",
    "colonne = [\"R\",\"Nome\"]\n",
    "Ruo = Ruo[colonne]"
   ]
  },
  {
   "cell_type": "code",
   "execution_count": 47,
   "metadata": {},
   "outputs": [],
   "source": [
    "F19 = pd.merge(Ruo,F19,on=\"Nome\")\n",
    "F19[\"Predict\"]=F19[\"Predict\"]*10.41\n",
    "F19[\"Tit\"]=F19[\"Tit\"]*0.9\n",
    "F19.to_excel(\"data/F19.xlsx\")\n"
   ]
  },
  {
   "cell_type": "code",
   "execution_count": 48,
   "metadata": {},
   "outputs": [
    {
     "data": {
      "text/plain": [
       "dict_keys(['A', 'C', 'D', 'P'])"
      ]
     },
     "execution_count": 48,
     "metadata": {},
     "output_type": "execute_result"
    }
   ],
   "source": [
    "Gruppi_Classic = F19.groupby(\"R\")\n",
    "Gruppi_Classic.groups.keys()\n"
   ]
  },
  {
   "cell_type": "code",
   "execution_count": 49,
   "metadata": {},
   "outputs": [],
   "source": [
    "Attaccanti = Gruppi_Classic.get_group(\"A\")\n",
    "Centrocampisti = Gruppi_Classic.get_group(\"C\")\n",
    "Difensori = Gruppi_Classic.get_group(\"D\")\n",
    "Portieri =Gruppi_Classic.get_group(\"P\")"
   ]
  },
  {
   "cell_type": "code",
   "execution_count": 50,
   "metadata": {},
   "outputs": [
    {
     "name": "stderr",
     "output_type": "stream",
     "text": [
      "C:\\Users\\fede9\\Anaconda3\\lib\\site-packages\\ipykernel_launcher.py:2: SettingWithCopyWarning: \n",
      "A value is trying to be set on a copy of a slice from a DataFrame.\n",
      "Try using .loc[row_indexer,col_indexer] = value instead\n",
      "\n",
      "See the caveats in the documentation: http://pandas.pydata.org/pandas-docs/stable/indexing.html#indexing-view-versus-copy\n",
      "  \n",
      "C:\\Users\\fede9\\Anaconda3\\lib\\site-packages\\ipykernel_launcher.py:3: SettingWithCopyWarning: \n",
      "A value is trying to be set on a copy of a slice from a DataFrame.\n",
      "Try using .loc[row_indexer,col_indexer] = value instead\n",
      "\n",
      "See the caveats in the documentation: http://pandas.pydata.org/pandas-docs/stable/indexing.html#indexing-view-versus-copy\n",
      "  This is separate from the ipykernel package so we can avoid doing imports until\n",
      "C:\\Users\\fede9\\Anaconda3\\lib\\site-packages\\ipykernel_launcher.py:5: SettingWithCopyWarning: \n",
      "A value is trying to be set on a copy of a slice from a DataFrame.\n",
      "Try using .loc[row_indexer,col_indexer] = value instead\n",
      "\n",
      "See the caveats in the documentation: http://pandas.pydata.org/pandas-docs/stable/indexing.html#indexing-view-versus-copy\n",
      "  \"\"\"\n",
      "C:\\Users\\fede9\\Anaconda3\\lib\\site-packages\\ipykernel_launcher.py:6: SettingWithCopyWarning: \n",
      "A value is trying to be set on a copy of a slice from a DataFrame.\n",
      "Try using .loc[row_indexer,col_indexer] = value instead\n",
      "\n",
      "See the caveats in the documentation: http://pandas.pydata.org/pandas-docs/stable/indexing.html#indexing-view-versus-copy\n",
      "  \n",
      "C:\\Users\\fede9\\Anaconda3\\lib\\site-packages\\ipykernel_launcher.py:8: SettingWithCopyWarning: \n",
      "A value is trying to be set on a copy of a slice from a DataFrame.\n",
      "Try using .loc[row_indexer,col_indexer] = value instead\n",
      "\n",
      "See the caveats in the documentation: http://pandas.pydata.org/pandas-docs/stable/indexing.html#indexing-view-versus-copy\n",
      "  \n",
      "C:\\Users\\fede9\\Anaconda3\\lib\\site-packages\\ipykernel_launcher.py:9: SettingWithCopyWarning: \n",
      "A value is trying to be set on a copy of a slice from a DataFrame.\n",
      "Try using .loc[row_indexer,col_indexer] = value instead\n",
      "\n",
      "See the caveats in the documentation: http://pandas.pydata.org/pandas-docs/stable/indexing.html#indexing-view-versus-copy\n",
      "  if __name__ == '__main__':\n",
      "C:\\Users\\fede9\\Anaconda3\\lib\\site-packages\\ipykernel_launcher.py:11: SettingWithCopyWarning: \n",
      "A value is trying to be set on a copy of a slice from a DataFrame.\n",
      "Try using .loc[row_indexer,col_indexer] = value instead\n",
      "\n",
      "See the caveats in the documentation: http://pandas.pydata.org/pandas-docs/stable/indexing.html#indexing-view-versus-copy\n",
      "  # This is added back by InteractiveShellApp.init_path()\n",
      "C:\\Users\\fede9\\Anaconda3\\lib\\site-packages\\ipykernel_launcher.py:12: SettingWithCopyWarning: \n",
      "A value is trying to be set on a copy of a slice from a DataFrame.\n",
      "Try using .loc[row_indexer,col_indexer] = value instead\n",
      "\n",
      "See the caveats in the documentation: http://pandas.pydata.org/pandas-docs/stable/indexing.html#indexing-view-versus-copy\n",
      "  if sys.path[0] == '':\n"
     ]
    }
   ],
   "source": [
    "#Spesa Massima Portieri 8\n",
    "Portieri[\"Spesa\"]=(Portieri[\"FinVal\"]*8)/Portieri[\"FinVal\"].max()\n",
    "Portieri[\"Spesa\"] = Portieri[\"Spesa\"].round()\n",
    "Portieri = Portieri.sort_values(by=[\"Spesa\"],ascending=False)\n",
    "Difensori[\"Spesa\"]=(Difensori[\"FinVal\"]*8)/Difensori[\"FinVal\"].max()\n",
    "Difensori[\"Spesa\"] = Difensori[\"Spesa\"].round()\n",
    "Difensori = Difensori.sort_values(by=[\"Spesa\"],ascending=False)\n",
    "Centrocampisti[\"Spesa\"]=(Centrocampisti[\"FinVal\"]*30)/Difensori[\"FinVal\"].max()\n",
    "Centrocampisti[\"Spesa\"] = Centrocampisti[\"Spesa\"].round()\n",
    "Centrocampisti = Centrocampisti.sort_values(by=[\"Spesa\"],ascending=False)\n",
    "Attaccanti[\"Spesa\"]=(Attaccanti[\"FinVal\"]*100)/Attaccanti[\"FinVal\"].max()\n",
    "Attaccanti[\"Spesa\"] = Attaccanti[\"Spesa\"].round()\n",
    "Attaccanti = Attaccanti.sort_values(by=[\"Spesa\"],ascending=False)"
   ]
  },
  {
   "cell_type": "code",
   "execution_count": 51,
   "metadata": {},
   "outputs": [],
   "source": [
    "AllDone = pd.ExcelWriter('AllDone.xlsx', engine='xlsxwriter')\n",
    "Attaccanti.to_excel(AllDone, sheet_name='Attaccanti')\n",
    "Centrocampisti.to_excel(AllDone, sheet_name='Centrocampisti')\n",
    "Difensori.to_excel(AllDone, sheet_name='Difensori')\n",
    "Portieri.to_excel(AllDone, sheet_name='Portieri')\n",
    "AllDone.save()\n"
   ]
  },
  {
   "cell_type": "code",
   "execution_count": 52,
   "metadata": {},
   "outputs": [],
   "source": [
    "def norm(df):\n",
    "    df.apply()"
   ]
  },
  {
   "cell_type": "code",
   "execution_count": 53,
   "metadata": {},
   "outputs": [],
   "source": [
    "Nomi_R=F18[~F18.Nome.isin(F19.Nome)]"
   ]
  },
  {
   "cell_type": "code",
   "execution_count": 54,
   "metadata": {},
   "outputs": [],
   "source": [
    "Nomi_R17 = F17[~F17.Nome.isin(F19.Nome)]\n",
    "Nomi_R17 = Nomi_R17[~Nomi_R17.Nome.isin(Nomi_R.Nome)]"
   ]
  },
  {
   "cell_type": "code",
   "execution_count": 55,
   "metadata": {},
   "outputs": [],
   "source": [
    "Nomi_R16 = F16[~F16.Nome.isin(F19.Nome)]\n",
    "Nomi_R16 = Nomi_R16[~Nomi_R16.Nome.isin(Nomi_R.Nome)]\n",
    "Nomi_R16 = Nomi_R16[~Nomi_R16.Nome.isin(Nomi_R17.Nome)]\n"
   ]
  },
  {
   "cell_type": "code",
   "execution_count": 56,
   "metadata": {},
   "outputs": [],
   "source": [
    "Nomi_R=F18[F18.Nome.isin(F19.Nome)]\n",
    "Nomi_R17 = F17[F17.Nome.isin(F19.Nome)]\n",
    "Nomi_R17 = Nomi_R17[Nomi_R17.Nome.isin(Nomi_R.Nome)]\n",
    "Nomi_R16 = F16[F16.Nome.isin(F19.Nome)]\n",
    "Nomi_R16 = Nomi_R16[Nomi_R16.Nome.isin(Nomi_R.Nome)]\n",
    "Nomi_R16 = Nomi_R16[Nomi_R16.Nome.isin(Nomi_R17.Nome)]"
   ]
  },
  {
   "cell_type": "code",
   "execution_count": 57,
   "metadata": {},
   "outputs": [],
   "source": [
    "Nomi_R16=Nomi_R16.rename(columns={\"GP\": \"GP16\",\"Quot\":\"Quot16\",\"Mean\":\"Mean16\",\n",
    "                                  \"STD\":\"STD16\",\"Titolare\":\"Titolare16\",\n",
    "                                  \"Squadra_y\":\"Squadra16\",\"Quot Fin\":\"QuotFin16\"})\n",
    "Nomi_R17=Nomi_R17.rename(columns={\"GP\": \"GP17\",\"Quot\":\"Quot17\",\"Mean\":\"Mean17\",\n",
    "                                  \"STD\":\"STD17\",\"Titolare\":\"Titolare17\",\n",
    "                                  \"Squadra_y\":\"Squadra17\",\"Quot Fin\":\"QuotFin17\"})\n",
    "Nomi_R18=Nomi_R.rename(columns={\"GP\": \"GP18\",\"Quot\":\"Quot18\",\"Mean\":\"Mean18\",\n",
    "                                  \"STD\":\"STD18\",\"Titolare\":\"Titolare18\",\n",
    "                                  \"Squadra_y\":\"Squadra18\",\"Quot Fin\":\"QuotFin18\"})\n"
   ]
  },
  {
   "cell_type": "code",
   "execution_count": 58,
   "metadata": {},
   "outputs": [],
   "source": [
    "Nomi_R = pd.merge(Nomi_R17,Nomi_R18, on= \"Nome\")\n",
    "Nomi_R = pd.merge(Nomi_R,Nomi_R16, on= \"Nome\")\n",
    "list = ['GP16', 'Quot16', 'Mean16', 'STD16', 'Titolare16', 'Squadra16',\n",
    "       'QuotFin16', 'GP17', 'Quot17', 'Mean17', 'STD17', 'Titolare17',\n",
    "       'Squadra17', 'QuotFin17', 'GP18', 'Quot18', 'Mean18', 'STD18',\n",
    "       'Titolare18', 'Squadra18', 'QuotFin18']\n",
    "Nomi_Norm = Nomi_R[list].apply(lambda x: x/x.max(), axis=0)\n"
   ]
  },
  {
   "cell_type": "code",
   "execution_count": 59,
   "metadata": {},
   "outputs": [],
   "source": [
    "train = Nomi_Norm.sample(frac=0.7, random_state=1).reset_index(drop=True)\n",
    "test= Nomi_Norm.loc[~Nomi_Norm.index.isin(train.index)]\n",
    "columns=['GP16', 'Quot16', 'Mean16', 'STD16', 'Titolare16', 'Squadra16',\n",
    "       'QuotFin16', 'GP17', 'Quot17', 'Mean17', 'STD17', 'Titolare17',\n",
    "       'Squadra17', 'QuotFin17','Quot18','Titolare18', 'Squadra18']\n",
    "target=['Mean18', 'STD18',\"QuotFin18\"]"
   ]
  },
  {
   "cell_type": "code",
   "execution_count": 60,
   "metadata": {},
   "outputs": [
    {
     "data": {
      "text/plain": [
       "0.004623079493047778"
      ]
     },
     "execution_count": 60,
     "metadata": {},
     "output_type": "execute_result"
    }
   ],
   "source": [
    "model.fit(train[columns], train[target])\n",
    "predictions = model.predict(test[columns])\n",
    "mean_squared_error(predictions, test[target])"
   ]
  },
  {
   "cell_type": "code",
   "execution_count": 61,
   "metadata": {},
   "outputs": [],
   "source": [
    "list = ['Nome', 'Tit', 'SquadraN', 'Quote']\n",
    "MLF19 = F19[list]\n"
   ]
  },
  {
   "cell_type": "code",
   "execution_count": 62,
   "metadata": {},
   "outputs": [],
   "source": [
    "Nomi_R19=MLF19.rename(columns={\"Quote\":\"Quot19\",\"Tit\":\"Titolare19\",\n",
    "                                  \"SquadraN\":\"Squadra19\"})\n",
    "Nomi_R = pd.merge(Nomi_R17,Nomi_R18, on= \"Nome\")\n",
    "Nomi_R = pd.merge(Nomi_R,Nomi_R19, on= \"Nome\")\n",
    "list = ['GP17', 'Quot17', 'Mean17', 'STD17', 'Titolare17',\n",
    "       'Squadra17', 'QuotFin17', 'GP18', 'Quot18', 'Mean18', 'STD18',\n",
    "       'Titolare18', 'Squadra18', 'QuotFin18',\"Quot19\",\"Titolare19\",\"Squadra19\"]\n",
    "Nomi_R[list] = Nomi_R[list].apply(lambda x: x/x.max(), axis=0)"
   ]
  },
  {
   "cell_type": "code",
   "execution_count": 63,
   "metadata": {},
   "outputs": [],
   "source": [
    "Prova = model.predict(Nomi_R[list])\n",
    "Nomi_R[\"Mean19\"]=Prova[:,0]*9.2878\n",
    "Nomi_R[\"STD19\"]=Prova[:,1]*4.658712105812988\n",
    "Nomi_R[\"QuotFin19\"]=Prova[:,2]*45\n"
   ]
  },
  {
   "cell_type": "code",
   "execution_count": 64,
   "metadata": {},
   "outputs": [],
   "source": [
    "list =[\"Nome\",\"Mean19\",\"STD19\",\"QuotFin19\"]\n",
    "Nomifin = Nomi_R[list]"
   ]
  },
  {
   "cell_type": "code",
   "execution_count": 65,
   "metadata": {},
   "outputs": [],
   "source": [
    "Nomifin.to_excel(\"data/Returning Players ML.xlsx\")\n"
   ]
  },
  {
   "cell_type": "code",
   "execution_count": 66,
   "metadata": {},
   "outputs": [],
   "source": [
    "Pr = pd.read_excel(f\"data/Statistiche_Fantacalcio_2018-19_Fantagazzetta (1).xlsx\")\n"
   ]
  },
  {
   "cell_type": "code",
   "execution_count": null,
   "metadata": {},
   "outputs": [],
   "source": []
  },
  {
   "cell_type": "code",
   "execution_count": null,
   "metadata": {},
   "outputs": [],
   "source": []
  },
  {
   "cell_type": "code",
   "execution_count": null,
   "metadata": {},
   "outputs": [],
   "source": []
  }
 ],
 "metadata": {
  "kernelspec": {
   "display_name": "Python 3",
   "language": "python",
   "name": "python3"
  },
  "language_info": {
   "codemirror_mode": {
    "name": "ipython",
    "version": 3
   },
   "file_extension": ".py",
   "mimetype": "text/x-python",
   "name": "python",
   "nbconvert_exporter": "python",
   "pygments_lexer": "ipython3",
   "version": "3.6.4"
  }
 },
 "nbformat": 4,
 "nbformat_minor": 2
}
